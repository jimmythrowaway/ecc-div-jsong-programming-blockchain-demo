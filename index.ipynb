{
 "cells": [
  {
   "cell_type": "markdown",
   "metadata": {},
   "source": [
    "# Finite Field Division\n",
    "\n",
    "The intuition that helps us with addition, subtraction, multiplication and perhaps even exponentiation unfortunately doesn’t help us quite as much in division. Generally speaking division is the hardest one to make sense of, but we’ll start with something that should make sense.\n",
    "\n",
    "In normal math, division is the opposite of multiplication:\n",
    "\n",
    "7⋅8 = 56 implies that 56/8 = 7\n",
    "\n",
    "12⋅2 = 24 implies that 24/12 = 2\n",
    "\n",
    "And so on. We can use this as the definition of division to help us. Note that like normal math, you cannot divide by 0.\n",
    "\n",
    "In F19, we know that:\n",
    "\n",
    "3⋅7=21%19=2 implies that 2/7=3\n",
    "\n",
    "9⋅5=45%19=7 implies that 7/5=9\n",
    "\n",
    "This is very unintuitive as we generally think of 2/7 or 7/5 as fractions, not nice round field elements. Yet that is one of the remarkable things about Finite Fields: Finite Fields are closed under division. That is, dividing any two numbers where the denominator is not 0 will result in another field element.\n",
    "\n",
    "The question you might be asking yourself is, how do I calculate 2/7 if I didn’t know 3⋅7=2? This is indeed a very good question and in order to answer it, we’ll have to use the result from the previous exercise.\n",
    "\n",
    "You probably noticed that n(p-1) is always 1. This is a beautiful result from number theory called Fermat’s Little Theorem and only works when p is prime. Essentially, the theorem says:\n",
    "\n",
    "n(p-1)%p=1 where p is prime\n",
    "\n",
    "Since we are operating in prime fields, this will always be true.\n",
    "\n",
    "Fermat’s Little Theorem\n",
    "There are many proofs of this theorem, but perhaps the simplest is utilizing what we saw in the exercise above. Namely that the sets:\n",
    "\n",
    "{1, 2, 3, …​ p-2, p-1} = {n%p, 2n%p, 3n%p, …​ (p-2)n%p, (p-1)n%p}\n",
    "\n",
    "The resulting numbers might not be in the right order, but the same numbers are in both sets.\n",
    "\n",
    "We can then multiply every element to get this:\n",
    "\n",
    "1⋅2⋅3⋅…​⋅(p-2)⋅(p-1) % p = n⋅2n⋅3n⋅…​⋅(p-2)n⋅(p-1)n % p\n",
    "\n",
    "The left side is the same as (p-1)! % p where ! is the factorial (e.g. 5! = 5⋅4⋅3⋅2⋅1). The right side, we can gather up all the n’s and get:\n",
    "\n",
    "(p-1)!⋅n(p-1) % p\n",
    "\n",
    "Thus:\n",
    "\n",
    "(p-1)! % p = (p-1)! ⋅n(p-1) % p\n",
    "\n",
    "The (p-1)! on both sides cancel giving us:\n",
    "\n",
    "1 = n(p-1) % p\n",
    "\n",
    "This proves Fermats' Little Theorem\n",
    "\n",
    "The other fact that we have to wrap our head around is that division is really multiplication with the inverse. Thus:\n",
    "\n",
    "a/b=a⋅(1/b)=a⋅b-1\n",
    "\n",
    "We can reduce the division problem to a multiplication problem as long as we can figure out what b-1 is. This is where Fermat’s Little Theorem comes into play. We know:\n",
    "\n",
    "b(p-1)=1\n",
    "\n",
    "Because p is prime. Thus:\n",
    "\n",
    "b-1=b-1⋅1=b-1⋅b(p-1)=b(p-2)\n",
    "\n",
    "So in other words, we can calculate the inverse using the exponent function. In F19:\n",
    "\n",
    "2/7=2⋅7(19-2)=2⋅717=465261027974414%19=3\n",
    "\n",
    "7/5=7⋅5(19-2)=7⋅517=5340576171875%19=9\n",
    "\n",
    "This is a relatively expensive calculation as exponentiating grows very fast as we use bigger and bigger primes. Indeed division is the most expensive operation for that reason. To lessen the expensiveness, we can utilize the pow function in Python. pow is a function that will exponentiate. Thus something like pow(7,17) does the same thing as `7**17`. The pow function, however, has an optional third argument which makes things more efficient. Specifically, pow will modulo by the third argument. Thus, pow(7,17,19) will give the same result as `7**17%19` but do so faster because the modulo function is done after each round of multiplication.\n",
    "\n",
    "Note that in Python3, division is separated into `__truediv__` and `__floordiv__`. The first does normal division, the second does integer division."
   ]
  },
  {
   "cell_type": "markdown",
   "metadata": {},
   "source": [
    "#### Solve these equations in \\\\(F_{31}\\\\):\n",
    "\n",
    "\\\\(3/24 = ?\\\\)\n",
    "\n",
    "\\\\(17^{-3} = ?\\\\)\n",
    "\n",
    "\\\\(4^{-4}\\cdot{11} = ?\\\\)\n"
   ]
  },
  {
   "cell_type": "code",
   "execution_count": 1,
   "metadata": {},
   "outputs": [
    {
     "name": "stdout",
     "output_type": "stream",
     "text": [
      "4\n",
      "29\n",
      "13\n"
     ]
    }
   ],
   "source": [
    "# remember pow(x, p-2, p) is the same as 1/x in F_p\n",
    "prime = 31\n",
    "# 3/24 = ?\n",
    "print(3*pow(24, prime-2, prime)%prime)\n",
    "# 17^(-3) = ?\n",
    "print(pow(17,prime-4, prime))\n",
    "# 4^(-4)*11 = ?\n",
    "print(pow(4,prime-5,prime)*11%prime)"
   ]
  },
  {
   "cell_type": "markdown",
   "metadata": {},
   "source": [
    "#### 3.2. Write a program to calculate \\\\(k/1, k/2, k/3, ...k/30\\\\) for some k in \\\\(F_{31}\\\\). Notice anything about these sets?"
   ]
  },
  {
   "cell_type": "code",
   "execution_count": 30,
   "metadata": {},
   "outputs": [],
   "source": [
    "# Exercise 3.2\n",
    "\n",
    "from random import randint\n",
    "\n",
    "prime = 31\n",
    "k = randint(1, prime)\n",
    "\n",
    "# use range(31) to iterate over all numbers from 0 to 30 inclusive"
   ]
  },
  {
   "cell_type": "markdown",
   "metadata": {},
   "source": [
    "### Exercise\n",
    "\n",
    "Create the `__truediv__` method for your library:"
   ]
  },
  {
   "cell_type": "code",
   "execution_count": 2,
   "metadata": {},
   "outputs": [],
   "source": [
    "from ecc import FieldElement\n",
    "\n",
    "class FieldElement(FieldElement):\n",
    "\n",
    "    def __pow__(self, n):\n",
    "        exponent = n % (self.prime - 1)\n",
    "        return self.__class__(pow())\n",
    "    def __truediv__(self, other):\n",
    "        if self.prime != other.prime:\n",
    "            raise RuntimeError('Primes must be the same')\n",
    "        # self.num and other.num are the actual values\n",
    "        # self.prime is what you'll need to mod against\n",
    "        # use fermat's little theorem:\n",
    "        # self.num**(p-1) % p == 1\n",
    "        # this means:\n",
    "        # 1/n == pow(n, p-2, p)\n",
    "        # You need to return an element of the same class\n",
    "        num = self.num * pow(other.num, self.prime-2, self.prime) % self.prime\n",
    "        # use: self.__class__(num, prime)\n",
    "        return self.__class__(num, self.prime)\n",
    "\n",
    "# Hint: the __pow__ method needs a positive number for the exponent.\n",
    "# You can mod by p-1"
   ]
  },
  {
   "cell_type": "code",
   "execution_count": null,
   "metadata": {},
   "outputs": [],
   "source": []
  }
 ],
 "metadata": {
  "kernelspec": {
   "display_name": "Python 3",
   "language": "python",
   "name": "python3"
  },
  "language_info": {
   "codemirror_mode": {
    "name": "ipython",
    "version": 3
   },
   "file_extension": ".py",
   "mimetype": "text/x-python",
   "name": "python",
   "nbconvert_exporter": "python",
   "pygments_lexer": "ipython3",
   "version": "3.6.4"
  }
 },
 "nbformat": 4,
 "nbformat_minor": 2
}
